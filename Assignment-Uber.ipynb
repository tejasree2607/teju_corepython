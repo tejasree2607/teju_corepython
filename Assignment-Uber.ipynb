{
 "cells": [
  {
   "cell_type": "markdown",
   "id": "941aa511-f9ba-4f8c-85fb-0b776f5b9a03",
   "metadata": {},
   "source": [
    "# **Assignment on Uber dataset**"
   ]
  },
  {
   "cell_type": "markdown",
   "id": "e9ccc14f-4a6d-48b9-9937-b6373ad64145",
   "metadata": {},
   "source": [
    "**Load the dataset**"
   ]
  },
  {
   "cell_type": "code",
   "execution_count": 1,
   "id": "a34ffa5a-50f5-4451-8ed8-e6f44a7419b1",
   "metadata": {},
   "outputs": [
    {
     "name": "stdout",
     "output_type": "stream",
     "text": [
      "      START_DATE*       END_DATE* CATEGORY*       START*            STOP*  \\\n",
      "0  1/1/2016 21:11  1/1/2016 21:17  Business  Fort Pierce      Fort Pierce   \n",
      "1   1/2/2016 1:25   1/2/2016 1:37  Business  Fort Pierce      Fort Pierce   \n",
      "2  1/2/2016 20:25  1/2/2016 20:38  Business  Fort Pierce      Fort Pierce   \n",
      "3  1/5/2016 17:31  1/5/2016 17:45  Business  Fort Pierce      Fort Pierce   \n",
      "4  1/6/2016 14:42  1/6/2016 15:49  Business  Fort Pierce  West Palm Beach   \n",
      "\n",
      "   MILES*         PURPOSE*  \n",
      "0     5.1   Meal/Entertain  \n",
      "1     5.0              NaN  \n",
      "2     4.8  Errand/Supplies  \n",
      "3     4.7          Meeting  \n",
      "4    63.7   Customer Visit  \n"
     ]
    }
   ],
   "source": [
    "import pandas as pd\n",
    "uber=pd.read_csv(\"C:\\\\Users\\\\CVR\\\\Desktop\\\\22B81A66B9\\\\Uber.csv\")\n",
    "print(uber.head())"
   ]
  },
  {
   "cell_type": "markdown",
   "id": "a589e8f4-ce40-468d-b563-c873eddf171b",
   "metadata": {},
   "source": [
    "**Display basic info about dataset**"
   ]
  },
  {
   "cell_type": "code",
   "execution_count": 3,
   "id": "fe004ecf-d5b4-4f01-817a-56be0681763a",
   "metadata": {},
   "outputs": [
    {
     "name": "stdout",
     "output_type": "stream",
     "text": [
      "<class 'pandas.core.frame.DataFrame'>\n",
      "RangeIndex: 1156 entries, 0 to 1155\n",
      "Data columns (total 7 columns):\n",
      " #   Column       Non-Null Count  Dtype  \n",
      "---  ------       --------------  -----  \n",
      " 0   START_DATE*  1156 non-null   object \n",
      " 1   END_DATE*    1155 non-null   object \n",
      " 2   CATEGORY*    1155 non-null   object \n",
      " 3   START*       1155 non-null   object \n",
      " 4   STOP*        1155 non-null   object \n",
      " 5   MILES*       1156 non-null   float64\n",
      " 6   PURPOSE*     653 non-null    object \n",
      "dtypes: float64(1), object(6)\n",
      "memory usage: 63.3+ KB\n",
      "None\n"
     ]
    }
   ],
   "source": [
    "print(uber.info())"
   ]
  },
  {
   "cell_type": "markdown",
   "id": "0dba6eff-7805-45fa-8272-76f9b11fbb0b",
   "metadata": {},
   "source": [
    "**Check for missing values**"
   ]
  },
  {
   "cell_type": "code",
   "execution_count": 2,
   "id": "d9565cc7-c276-422a-883f-cd731ceb163a",
   "metadata": {},
   "outputs": [
    {
     "name": "stdout",
     "output_type": "stream",
     "text": [
      "      START_DATE*  END_DATE*  CATEGORY*  START*  STOP*  MILES*  PURPOSE*\n",
      "0           False      False      False   False  False   False     False\n",
      "1           False      False      False   False  False   False      True\n",
      "2           False      False      False   False  False   False     False\n",
      "3           False      False      False   False  False   False     False\n",
      "4           False      False      False   False  False   False     False\n",
      "...           ...        ...        ...     ...    ...     ...       ...\n",
      "1151        False      False      False   False  False   False     False\n",
      "1152        False      False      False   False  False   False     False\n",
      "1153        False      False      False   False  False   False     False\n",
      "1154        False      False      False   False  False   False     False\n",
      "1155        False       True       True    True   True   False      True\n",
      "\n",
      "[1156 rows x 7 columns]\n"
     ]
    }
   ],
   "source": [
    "print(uber.isna())"
   ]
  },
  {
   "cell_type": "markdown",
   "id": "a58c1ca3-cae2-412a-8bd3-65cac83dcdd2",
   "metadata": {},
   "source": [
    "**Drop rows with missing values**"
   ]
  },
  {
   "cell_type": "code",
   "execution_count": 18,
   "id": "7e610261-c70f-4297-b9be-370881444bc9",
   "metadata": {},
   "outputs": [],
   "source": [
    "uber=uber.dropna()"
   ]
  },
  {
   "cell_type": "markdown",
   "id": "553b0fa2-e237-4f3d-824f-812b15aa79f3",
   "metadata": {},
   "source": [
    "**fill missing values (propose column with unknown value)**"
   ]
  },
  {
   "cell_type": "code",
   "execution_count": 8,
   "id": "1f85afa3-ea43-4ccc-bd45-b7b8e1d7b0b9",
   "metadata": {},
   "outputs": [
    {
     "name": "stdout",
     "output_type": "stream",
     "text": [
      "           START_DATE*         END_DATE* CATEGORY*            START*  \\\n",
      "0       1/1/2016 21:11    1/1/2016 21:17  Business       Fort Pierce   \n",
      "1        1/2/2016 1:25     1/2/2016 1:37  Business       Fort Pierce   \n",
      "2       1/2/2016 20:25    1/2/2016 20:38  Business       Fort Pierce   \n",
      "3       1/5/2016 17:31    1/5/2016 17:45  Business       Fort Pierce   \n",
      "4       1/6/2016 14:42    1/6/2016 15:49  Business       Fort Pierce   \n",
      "...                ...               ...       ...               ...   \n",
      "1151  12/31/2016 13:24  12/31/2016 13:42  Business           Kar?chi   \n",
      "1152  12/31/2016 15:03  12/31/2016 15:38  Business  Unknown Location   \n",
      "1153  12/31/2016 21:32  12/31/2016 21:50  Business        Katunayake   \n",
      "1154  12/31/2016 22:08  12/31/2016 23:51  Business           Gampaha   \n",
      "1155            Totals                 0         0                 0   \n",
      "\n",
      "                 STOP*   MILES*         PURPOSE*  \n",
      "0          Fort Pierce      5.1   Meal/Entertain  \n",
      "1          Fort Pierce      5.0                0  \n",
      "2          Fort Pierce      4.8  Errand/Supplies  \n",
      "3          Fort Pierce      4.7          Meeting  \n",
      "4      West Palm Beach     63.7   Customer Visit  \n",
      "...                ...      ...              ...  \n",
      "1151  Unknown Location      3.9   Temporary Site  \n",
      "1152  Unknown Location     16.2          Meeting  \n",
      "1153           Gampaha      6.4   Temporary Site  \n",
      "1154         Ilukwatta     48.2   Temporary Site  \n",
      "1155                 0  12204.7                0  \n",
      "\n",
      "[1156 rows x 7 columns]\n"
     ]
    }
   ],
   "source": [
    "print(uber.fillna(0))"
   ]
  },
  {
   "cell_type": "markdown",
   "id": "2c3f9b9f-8cc4-46d0-bc19-d0986d7895c4",
   "metadata": {},
   "source": [
    "**Check and remove duplicates**"
   ]
  },
  {
   "cell_type": "code",
   "execution_count": 15,
   "id": "94e58632-b9ce-4be0-8f71-5a81b4dd88cd",
   "metadata": {},
   "outputs": [
    {
     "data": {
      "text/plain": [
       "0       False\n",
       "1       False\n",
       "2       False\n",
       "3       False\n",
       "4       False\n",
       "        ...  \n",
       "1151    False\n",
       "1152    False\n",
       "1153    False\n",
       "1154    False\n",
       "1155    False\n",
       "Length: 1156, dtype: bool"
      ]
     },
     "execution_count": 15,
     "metadata": {},
     "output_type": "execute_result"
    }
   ],
   "source": [
    "uber.duplicated()"
   ]
  },
  {
   "cell_type": "code",
   "execution_count": 10,
   "id": "76215668-c702-461b-872e-83ab303880cb",
   "metadata": {},
   "outputs": [
    {
     "name": "stdout",
     "output_type": "stream",
     "text": [
      "           START_DATE*         END_DATE* CATEGORY*            START*  \\\n",
      "0       1/1/2016 21:11    1/1/2016 21:17  Business       Fort Pierce   \n",
      "1        1/2/2016 1:25     1/2/2016 1:37  Business       Fort Pierce   \n",
      "2       1/2/2016 20:25    1/2/2016 20:38  Business       Fort Pierce   \n",
      "3       1/5/2016 17:31    1/5/2016 17:45  Business       Fort Pierce   \n",
      "4       1/6/2016 14:42    1/6/2016 15:49  Business       Fort Pierce   \n",
      "...                ...               ...       ...               ...   \n",
      "1151  12/31/2016 13:24  12/31/2016 13:42  Business           Kar?chi   \n",
      "1152  12/31/2016 15:03  12/31/2016 15:38  Business  Unknown Location   \n",
      "1153  12/31/2016 21:32  12/31/2016 21:50  Business        Katunayake   \n",
      "1154  12/31/2016 22:08  12/31/2016 23:51  Business           Gampaha   \n",
      "1155            Totals               NaN       NaN               NaN   \n",
      "\n",
      "                 STOP*   MILES*         PURPOSE*  \n",
      "0          Fort Pierce      5.1   Meal/Entertain  \n",
      "1          Fort Pierce      5.0              NaN  \n",
      "2          Fort Pierce      4.8  Errand/Supplies  \n",
      "3          Fort Pierce      4.7          Meeting  \n",
      "4      West Palm Beach     63.7   Customer Visit  \n",
      "...                ...      ...              ...  \n",
      "1151  Unknown Location      3.9   Temporary Site  \n",
      "1152  Unknown Location     16.2          Meeting  \n",
      "1153           Gampaha      6.4   Temporary Site  \n",
      "1154         Ilukwatta     48.2   Temporary Site  \n",
      "1155               NaN  12204.7              NaN  \n",
      "\n",
      "[1155 rows x 7 columns]\n"
     ]
    }
   ],
   "source": [
    "print(uber.drop_duplicates())"
   ]
  },
  {
   "cell_type": "markdown",
   "id": "0a27bdb3-ade2-40b0-b06f-8a02ede5980a",
   "metadata": {},
   "source": [
    "**Convert START_DATE and END_DATE to datetime**"
   ]
  },
  {
   "cell_type": "code",
   "execution_count": 11,
   "id": "effc5d74-284f-470d-9784-8ae321a4a774",
   "metadata": {},
   "outputs": [
    {
     "data": {
      "text/plain": [
       "START_DATE*    datetime64[ns]\n",
       "END_DATE*              object\n",
       "CATEGORY*              object\n",
       "START*                 object\n",
       "STOP*                  object\n",
       "MILES*                float64\n",
       "PURPOSE*               object\n",
       "dtype: object"
      ]
     },
     "execution_count": 11,
     "metadata": {},
     "output_type": "execute_result"
    }
   ],
   "source": [
    "uber['START_DATE*'] = pd.to_datetime(uber['START_DATE*'], errors='coerce')\n",
    "uber.dtypes"
   ]
  },
  {
   "cell_type": "code",
   "execution_count": 12,
   "id": "59c684a6-d034-4ac8-b4cf-b86eeef5fc9c",
   "metadata": {},
   "outputs": [
    {
     "data": {
      "text/plain": [
       "START_DATE*    datetime64[ns]\n",
       "END_DATE*      datetime64[ns]\n",
       "CATEGORY*              object\n",
       "START*                 object\n",
       "STOP*                  object\n",
       "MILES*                float64\n",
       "PURPOSE*               object\n",
       "dtype: object"
      ]
     },
     "execution_count": 12,
     "metadata": {},
     "output_type": "execute_result"
    }
   ],
   "source": [
    "uber['END_DATE*'] = pd.to_datetime(uber['END_DATE*'], errors='coerce')\n",
    "uber.dtypes"
   ]
  },
  {
   "cell_type": "markdown",
   "id": "95dfc783-1db4-4010-a085-23a653ea83d0",
   "metadata": {},
   "source": [
    "**Total number of rides per category:**"
   ]
  },
  {
   "cell_type": "code",
   "execution_count": 17,
   "id": "e5cba9c3-7988-4d66-9306-5b95131dd111",
   "metadata": {},
   "outputs": [
    {
     "name": "stdout",
     "output_type": "stream",
     "text": [
      "CATEGORY*\n",
      "Business    1078\n",
      "Personal      77\n",
      "dtype: int64\n"
     ]
    }
   ],
   "source": [
    "rides = uber.groupby('CATEGORY*').size()\n",
    "print(rides)"
   ]
  },
  {
   "cell_type": "markdown",
   "id": "df33aac2-ffb5-4ec5-9498-652a0eb957d9",
   "metadata": {},
   "source": [
    "**Total miles traveled for each purpose:**"
   ]
  },
  {
   "cell_type": "code",
   "execution_count": 22,
   "id": "6cea5c61-d84e-4eaf-8fde-23ec8b1f2a2c",
   "metadata": {},
   "outputs": [
    {
     "name": "stdout",
     "output_type": "stream",
     "text": [
      "PURPOSE*\n",
      "Airport/Travel       16.5\n",
      "Between Offices     197.0\n",
      "Charity ($)          15.1\n",
      "Commute             180.2\n",
      "Customer Visit     2089.5\n",
      "Errand/Supplies     508.0\n",
      "Meal/Entertain      911.7\n",
      "Meeting            2851.3\n",
      "Moving               18.2\n",
      "Temporary Site      523.7\n",
      "Name: MILES*, dtype: float64\n"
     ]
    }
   ],
   "source": [
    "total = uber.groupby('PURPOSE*')['MILES*'].sum()\n",
    "print(total)"
   ]
  },
  {
   "cell_type": "markdown",
   "id": "0038c354-db08-44a6-90b4-3c307431960d",
   "metadata": {},
   "source": [
    "**Average distance for business vs. personal rides:**"
   ]
  },
  {
   "cell_type": "code",
   "execution_count": 41,
   "id": "81c4d609-c7fa-44a7-b7f1-29a996a068c8",
   "metadata": {},
   "outputs": [
    {
     "name": "stdout",
     "output_type": "stream",
     "text": [
      "CATEGORY*\n",
      "Business    10.970170\n",
      "Personal    35.583333\n",
      "Name: MILES*, dtype: float64\n"
     ]
    }
   ],
   "source": [
    "avg = uber.groupby('CATEGORY*')['MILES*'].mean()\n",
    "print(avg)\n"
   ]
  },
  {
   "cell_type": "markdown",
   "id": "b5ce5c6c-b9ba-4c8f-a371-d3d8ff76ce06",
   "metadata": {},
   "source": [
    "**Add a column for cost estimation (assuming $2 per mile):**"
   ]
  },
  {
   "cell_type": "code",
   "execution_count": 34,
   "id": "d727f17e-f0a9-4168-9a4d-bd0c5b118e11",
   "metadata": {},
   "outputs": [
    {
     "data": {
      "text/html": [
       "<div>\n",
       "<style scoped>\n",
       "    .dataframe tbody tr th:only-of-type {\n",
       "        vertical-align: middle;\n",
       "    }\n",
       "\n",
       "    .dataframe tbody tr th {\n",
       "        vertical-align: top;\n",
       "    }\n",
       "\n",
       "    .dataframe thead th {\n",
       "        text-align: right;\n",
       "    }\n",
       "</style>\n",
       "<table border=\"1\" class=\"dataframe\">\n",
       "  <thead>\n",
       "    <tr style=\"text-align: right;\">\n",
       "      <th></th>\n",
       "      <th>START_DATE*</th>\n",
       "      <th>END_DATE*</th>\n",
       "      <th>CATEGORY*</th>\n",
       "      <th>START*</th>\n",
       "      <th>STOP*</th>\n",
       "      <th>MILES*</th>\n",
       "      <th>PURPOSE*</th>\n",
       "      <th>COST</th>\n",
       "    </tr>\n",
       "  </thead>\n",
       "  <tbody>\n",
       "    <tr>\n",
       "      <th>0</th>\n",
       "      <td>2016-01-01 21:11:00</td>\n",
       "      <td>2016-01-01 21:17:00</td>\n",
       "      <td>Business</td>\n",
       "      <td>Fort Pierce</td>\n",
       "      <td>Fort Pierce</td>\n",
       "      <td>5.1</td>\n",
       "      <td>Meal/Entertain</td>\n",
       "      <td>10.2</td>\n",
       "    </tr>\n",
       "    <tr>\n",
       "      <th>2</th>\n",
       "      <td>2016-01-02 20:25:00</td>\n",
       "      <td>2016-01-02 20:38:00</td>\n",
       "      <td>Business</td>\n",
       "      <td>Fort Pierce</td>\n",
       "      <td>Fort Pierce</td>\n",
       "      <td>4.8</td>\n",
       "      <td>Errand/Supplies</td>\n",
       "      <td>9.6</td>\n",
       "    </tr>\n",
       "    <tr>\n",
       "      <th>3</th>\n",
       "      <td>2016-01-05 17:31:00</td>\n",
       "      <td>2016-01-05 17:45:00</td>\n",
       "      <td>Business</td>\n",
       "      <td>Fort Pierce</td>\n",
       "      <td>Fort Pierce</td>\n",
       "      <td>4.7</td>\n",
       "      <td>Meeting</td>\n",
       "      <td>9.4</td>\n",
       "    </tr>\n",
       "    <tr>\n",
       "      <th>4</th>\n",
       "      <td>2016-01-06 14:42:00</td>\n",
       "      <td>2016-01-06 15:49:00</td>\n",
       "      <td>Business</td>\n",
       "      <td>Fort Pierce</td>\n",
       "      <td>West Palm Beach</td>\n",
       "      <td>63.7</td>\n",
       "      <td>Customer Visit</td>\n",
       "      <td>127.4</td>\n",
       "    </tr>\n",
       "    <tr>\n",
       "      <th>5</th>\n",
       "      <td>2016-01-06 17:15:00</td>\n",
       "      <td>2016-01-06 17:19:00</td>\n",
       "      <td>Business</td>\n",
       "      <td>West Palm Beach</td>\n",
       "      <td>West Palm Beach</td>\n",
       "      <td>4.3</td>\n",
       "      <td>Meal/Entertain</td>\n",
       "      <td>8.6</td>\n",
       "    </tr>\n",
       "  </tbody>\n",
       "</table>\n",
       "</div>"
      ],
      "text/plain": [
       "          START_DATE*           END_DATE* CATEGORY*           START*  \\\n",
       "0 2016-01-01 21:11:00 2016-01-01 21:17:00  Business      Fort Pierce   \n",
       "2 2016-01-02 20:25:00 2016-01-02 20:38:00  Business      Fort Pierce   \n",
       "3 2016-01-05 17:31:00 2016-01-05 17:45:00  Business      Fort Pierce   \n",
       "4 2016-01-06 14:42:00 2016-01-06 15:49:00  Business      Fort Pierce   \n",
       "5 2016-01-06 17:15:00 2016-01-06 17:19:00  Business  West Palm Beach   \n",
       "\n",
       "             STOP*  MILES*         PURPOSE*   COST  \n",
       "0      Fort Pierce     5.1   Meal/Entertain   10.2  \n",
       "2      Fort Pierce     4.8  Errand/Supplies    9.6  \n",
       "3      Fort Pierce     4.7          Meeting    9.4  \n",
       "4  West Palm Beach    63.7   Customer Visit  127.4  \n",
       "5  West Palm Beach     4.3   Meal/Entertain    8.6  "
      ]
     },
     "execution_count": 34,
     "metadata": {},
     "output_type": "execute_result"
    }
   ],
   "source": [
    "uber['COST'] = uber['MILES*'] * 2\n",
    "uber.head()"
   ]
  },
  {
   "cell_type": "markdown",
   "id": "8e7c7766-dc43-43bf-bf95-bd52e37b1657",
   "metadata": {},
   "source": [
    "**Filter rides longer than 50 miles:**"
   ]
  },
  {
   "cell_type": "code",
   "execution_count": 35,
   "id": "f1452c30-ba23-4153-b83c-efefa820123d",
   "metadata": {},
   "outputs": [
    {
     "name": "stdout",
     "output_type": "stream",
     "text": [
      "             START_DATE*           END_DATE* CATEGORY*         START*  \\\n",
      "4    2016-01-06 14:42:00 2016-01-06 15:49:00  Business    Fort Pierce   \n",
      "232  2016-03-17 12:52:00 2016-03-17 15:11:00  Business         Austin   \n",
      "251  2016-03-19 19:33:00 2016-03-19 20:39:00  Business      Galveston   \n",
      "268  2016-03-25 13:24:00 2016-03-25 16:22:00  Business           Cary   \n",
      "269  2016-03-25 16:52:00 2016-03-25 22:22:00  Business          Latta   \n",
      "270  2016-03-25 22:54:00 2016-03-26 01:39:00  Business   Jacksonville   \n",
      "295  2016-04-02 12:21:00 2016-04-02 14:47:00  Business      Kissimmee   \n",
      "296  2016-04-02 16:57:00 2016-04-02 18:09:00  Business  Daytona Beach   \n",
      "297  2016-04-02 19:38:00 2016-04-02 22:36:00  Business   Jacksonville   \n",
      "298  2016-04-02 23:11:00 2016-04-03 01:34:00  Business      Ridgeland   \n",
      "299  2016-04-03 02:00:00 2016-04-03 04:16:00  Business       Florence   \n",
      "559  2016-07-17 12:20:00 2016-07-17 15:25:00  Personal          Boone   \n",
      "869  2016-10-28 15:53:00 2016-10-28 17:59:00  Business           Cary   \n",
      "870  2016-10-28 18:13:00 2016-10-28 20:07:00  Business  Winston Salem   \n",
      "871  2016-10-28 20:13:00 2016-10-28 22:00:00  Business      Asheville   \n",
      "1088 2016-12-21 20:56:00 2016-12-21 23:42:00  Business     Rawalpindi   \n",
      "\n",
      "                 STOP*  MILES*        PURPOSE*   COST  \n",
      "4      West Palm Beach    63.7  Customer Visit  127.4  \n",
      "232               Katy   136.0  Customer Visit  272.0  \n",
      "251            Houston    57.0  Customer Visit  114.0  \n",
      "268              Latta   144.0  Customer Visit  288.0  \n",
      "269       Jacksonville   310.3  Customer Visit  620.6  \n",
      "270          Kissimmee   201.0         Meeting  402.0  \n",
      "295      Daytona Beach    77.3  Customer Visit  154.6  \n",
      "296       Jacksonville    80.5  Customer Visit  161.0  \n",
      "297          Ridgeland   174.2  Customer Visit  348.4  \n",
      "298           Florence   144.0         Meeting  288.0  \n",
      "299               Cary   159.3         Meeting  318.6  \n",
      "559               Cary   180.2         Commute  360.4  \n",
      "869      Winston Salem   107.0         Meeting  214.0  \n",
      "870          Asheville   133.6         Meeting  267.2  \n",
      "871             Topton    91.8         Meeting  183.6  \n",
      "1088  Unknown Location   103.0         Meeting  206.0  \n"
     ]
    }
   ],
   "source": [
    "miles50 = uber[uber['MILES*'] > 50]\n",
    "print(miles50)"
   ]
  },
  {
   "cell_type": "markdown",
   "id": "3fdffe93-a65e-4407-bd5b-daa9d20c6708",
   "metadata": {},
   "source": [
    "**Filter by specific purpose (e.g., meetings):**"
   ]
  },
  {
   "cell_type": "code",
   "execution_count": 37,
   "id": "f9f9ee23-b44d-4a9e-bcf9-f5c34c8a990e",
   "metadata": {},
   "outputs": [
    {
     "name": "stdout",
     "output_type": "stream",
     "text": [
      "             START_DATE*           END_DATE* CATEGORY*            START*  \\\n",
      "3    2016-01-05 17:31:00 2016-01-05 17:45:00  Business       Fort Pierce   \n",
      "6    2016-01-06 17:30:00 2016-01-06 17:35:00  Business   West Palm Beach   \n",
      "7    2016-01-07 13:27:00 2016-01-07 13:33:00  Business              Cary   \n",
      "8    2016-01-10 08:05:00 2016-01-10 08:25:00  Business              Cary   \n",
      "10   2016-01-10 15:08:00 2016-01-10 15:51:00  Business          New York   \n",
      "...                  ...                 ...       ...               ...   \n",
      "1142 2016-12-29 20:15:00 2016-12-29 20:45:00  Business           Kar?chi   \n",
      "1144 2016-12-29 23:14:00 2016-12-29 23:47:00  Business  Unknown Location   \n",
      "1148 2016-12-30 16:45:00 2016-12-30 17:08:00  Business           Kar?chi   \n",
      "1150 2016-12-31 01:07:00 2016-12-31 01:14:00  Business           Kar?chi   \n",
      "1152 2016-12-31 15:03:00 2016-12-31 15:38:00  Business  Unknown Location   \n",
      "\n",
      "                 STOP*  MILES* PURPOSE*  COST  \n",
      "3          Fort Pierce     4.7  Meeting   9.4  \n",
      "6           Palm Beach     7.1  Meeting  14.2  \n",
      "7                 Cary     0.8  Meeting   1.6  \n",
      "8          Morrisville     8.3  Meeting  16.6  \n",
      "10              Queens    10.8  Meeting  21.6  \n",
      "...                ...     ...      ...   ...  \n",
      "1142           Kar?chi     7.2  Meeting  14.4  \n",
      "1144           Kar?chi    12.9  Meeting  25.8  \n",
      "1148           Kar?chi     4.6  Meeting   9.2  \n",
      "1150           Kar?chi     0.7  Meeting   1.4  \n",
      "1152  Unknown Location    16.2  Meeting  32.4  \n",
      "\n",
      "[187 rows x 8 columns]\n"
     ]
    }
   ],
   "source": [
    "purpose = uber[ uber['PURPOSE*']=='Meeting' ]\n",
    "print(purpose)"
   ]
  },
  {
   "cell_type": "markdown",
   "id": "82ee3d4d-523b-4a28-a9c1-28149eb65a29",
   "metadata": {},
   "source": [
    "**What is the total number of business trips versus personal trips?**"
   ]
  },
  {
   "cell_type": "code",
   "execution_count": 42,
   "id": "9cb8d272-ecb0-4b42-84b8-32577bbf635c",
   "metadata": {},
   "outputs": [
    {
     "name": "stdout",
     "output_type": "stream",
     "text": [
      "CATEGORY*\n",
      "Business    647\n",
      "Personal      6\n",
      "Name: count, dtype: int64\n"
     ]
    }
   ],
   "source": [
    "nof=uber['CATEGORY*'].value_counts()\n",
    "print(nof)\n"
   ]
  },
  {
   "cell_type": "markdown",
   "id": "4b246fa1-cd11-46f7-bf7d-bd287536cf7c",
   "metadata": {},
   "source": [
    "**What percentage of trips are business versus personal?**"
   ]
  },
  {
   "cell_type": "code",
   "execution_count": 47,
   "id": "4a2e19b9-5584-4c45-9d9e-642cf1aefabb",
   "metadata": {},
   "outputs": [
    {
     "name": "stdout",
     "output_type": "stream",
     "text": [
      "CATEGORY*\n",
      "Business    99.081164\n",
      "Personal     0.918836\n",
      "Name: count, dtype: float64\n"
     ]
    }
   ],
   "source": [
    "length = len(uber['CATEGORY*'])\n",
    "nof = uber['CATEGORY*'].value_counts()\n",
    "perc= (nof/length) * 100 \n",
    "print(perc)"
   ]
  },
  {
   "cell_type": "code",
   "execution_count": null,
   "id": "3ba9ff0a-473c-4b84-ae42-fb74b3363d93",
   "metadata": {},
   "outputs": [],
   "source": []
  }
 ],
 "metadata": {
  "kernelspec": {
   "display_name": "Python 3 (ipykernel)",
   "language": "python",
   "name": "python3"
  },
  "language_info": {
   "codemirror_mode": {
    "name": "ipython",
    "version": 3
   },
   "file_extension": ".py",
   "mimetype": "text/x-python",
   "name": "python",
   "nbconvert_exporter": "python",
   "pygments_lexer": "ipython3",
   "version": "3.11.5"
  }
 },
 "nbformat": 4,
 "nbformat_minor": 5
}
