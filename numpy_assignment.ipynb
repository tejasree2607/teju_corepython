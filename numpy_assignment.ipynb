{
 "cells": [
  {
   "cell_type": "code",
   "execution_count": 6,
   "id": "9dbd61c9-b8e9-4a4b-8f8d-6a0e1bab0737",
   "metadata": {},
   "outputs": [],
   "source": [
    "import numpy as np"
   ]
  },
  {
   "cell_type": "markdown",
   "id": "37132f57-8d5c-4d75-99df-ff69e1417727",
   "metadata": {},
   "source": [
    "1.\tArray Creation"
   ]
  },
  {
   "cell_type": "markdown",
   "id": "cfad16e3-f672-4736-ac41-67499b42820a",
   "metadata": {},
   "source": [
    "Create a 1D array of numbers from 10 to 50."
   ]
  },
  {
   "cell_type": "code",
   "execution_count": 13,
   "id": "e470587f-c094-409e-bbe9-c563f172c482",
   "metadata": {},
   "outputs": [
    {
     "name": "stdout",
     "output_type": "stream",
     "text": [
      "[10 11 12 13 14 15 16 17 18 19 20 21 22 23 24 25 26 27 28 29 30 31 32 33\n",
      " 34 35 36 37 38 39 40 41 42 43 44 45 46 47 48 49 50]\n"
     ]
    }
   ],
   "source": [
    "arr=np.arange(10,51) \n",
    "print(arr)"
   ]
  },
  {
   "cell_type": "markdown",
   "id": "32d850ca-ada9-4366-9023-4efbf6c8bbc5",
   "metadata": {},
   "source": [
    "Create a 3x3 array of random numbers between 0 and 1."
   ]
  },
  {
   "cell_type": "code",
   "execution_count": 14,
   "id": "55f2b24b-eda1-45c0-a576-7f216ab576b0",
   "metadata": {},
   "outputs": [
    {
     "name": "stdout",
     "output_type": "stream",
     "text": [
      "[[0.96098184 0.57105567 0.87893671]\n",
      " [0.70010253 0.07753503 0.24459898]\n",
      " [0.48106723 0.29944312 0.90718749]]\n"
     ]
    }
   ],
   "source": [
    "arr1 = np.random.rand(3, 3)\n",
    "print(arr1)"
   ]
  },
  {
   "cell_type": "markdown",
   "id": "5343d485-68a6-4660-81d4-f8fcab805711",
   "metadata": {},
   "source": [
    "Find the shape, size, and data type of the array you created in the previous task."
   ]
  },
  {
   "cell_type": "code",
   "execution_count": 15,
   "id": "ac72f595-df2c-47c4-861f-1f63f5d81164",
   "metadata": {},
   "outputs": [
    {
     "name": "stdout",
     "output_type": "stream",
     "text": [
      "(3, 3)\n",
      "9\n",
      "float64\n"
     ]
    }
   ],
   "source": [
    "print(arr1.shape)\n",
    "print(arr1.size)\n",
    "print(arr1.dtype)"
   ]
  },
  {
   "cell_type": "markdown",
   "id": "62af131d-57d4-453f-a9cf-86c4a691b640",
   "metadata": {},
   "source": [
    "3.\tBasic Operations\n"
   ]
  },
  {
   "cell_type": "markdown",
   "id": "d7f1d67b-d38c-49a1-ad10-35dbb1bcfd2f",
   "metadata": {},
   "source": [
    "Add 5 to every element of a 1D array."
   ]
  },
  {
   "cell_type": "code",
   "execution_count": 16,
   "id": "aed6b321-5821-452e-8902-6ceab452bab1",
   "metadata": {},
   "outputs": [
    {
     "name": "stdout",
     "output_type": "stream",
     "text": [
      "[ 7  9 11 13]\n"
     ]
    }
   ],
   "source": [
    "arr=np.array([2,4,6,8])\n",
    "print(arr+5)"
   ]
  },
  {
   "cell_type": "markdown",
   "id": "9c70d9bd-0749-4a5a-b621-0230bd2cdcc9",
   "metadata": {},
   "source": [
    "Multiply two 2D arrays element-wise."
   ]
  },
  {
   "cell_type": "code",
   "execution_count": 17,
   "id": "18220b7f-6716-45e8-92e1-7ca89b451906",
   "metadata": {},
   "outputs": [
    {
     "name": "stdout",
     "output_type": "stream",
     "text": [
      "[[ 3  8 18]\n",
      " [15 24 40]\n",
      " [ 2 25 63]]\n"
     ]
    }
   ],
   "source": [
    "arr=np.array([[1,2,3],[3,4,5],[1,5,9]])\n",
    "arr1=np.array([[3,4,6],[5,6,8],[2,5,7]])\n",
    "print(arr*arr1)"
   ]
  },
  {
   "cell_type": "markdown",
   "id": "23b11d28-2c27-406c-a2b9-5d9ae585132e",
   "metadata": {},
   "source": [
    "Create a 5x5 array of integers from 1 to 25. Extract:\n",
    "The first row.\n",
    "The last column.\n",
    "A subarray of the first three rows and first two columns.\n"
   ]
  },
  {
   "cell_type": "code",
   "execution_count": 27,
   "id": "fdeafe7c-f209-4903-8d42-e82b84f0c074",
   "metadata": {},
   "outputs": [
    {
     "name": "stdout",
     "output_type": "stream",
     "text": [
      "[[ 1  2  3  4  5]\n",
      " [ 6  7  8  9 10]\n",
      " [11 12 13 14 15]\n",
      " [16 17 18 19 20]\n",
      " [21 22 23 24 25]]\n",
      "[1 2 3 4 5]\n",
      "[ 5 10 15 20 25]\n",
      "[[ 1  2]\n",
      " [ 6  7]\n",
      " [11 12]]\n"
     ]
    }
   ],
   "source": [
    "arr=np.array([[1,2,3,4,5],[6,7,8,9,10],[11,12,13,14,15],[16,17,18,19,20],[21,22,23,24,25]])\n",
    "print(arr)\n",
    "print(arr[0,:])\n",
    "print(arr[:,-1])\n",
    "print(arr[:3, :2])"
   ]
  },
  {
   "cell_type": "markdown",
   "id": "8f543ba1-e19a-497b-9f89-9e0d4aab00c9",
   "metadata": {},
   "source": [
    "Create a 10-element array of random integers between 1 and 100. Find:\n",
    "The maximum value.\n",
    "The minimum value.\n",
    "The mean and standard deviation.\n"
   ]
  },
  {
   "cell_type": "code",
   "execution_count": 29,
   "id": "10f9b498-b6ba-4627-b2f5-0ce4d9b2c6ac",
   "metadata": {},
   "outputs": [
    {
     "name": "stdout",
     "output_type": "stream",
     "text": [
      "[ 38  35 100  20  42  23  85 100   8  92]\n",
      "100\n",
      "8\n",
      "54.3\n",
      "34.10293242523288\n"
     ]
    }
   ],
   "source": [
    "a = np.random.randint(1, 101, 10)\n",
    "print(a)\n",
    "print(a.max())\n",
    "print(a.min())\n",
    "print(a.mean())\n",
    "print(a.std())"
   ]
  },
  {
   "cell_type": "markdown",
   "id": "7ae95695-f26c-4510-9ad6-e49f52035ed0",
   "metadata": {},
   "source": [
    "Convert a 1D array of numbers from 1 to 12 into a 3x4 matrix."
   ]
  },
  {
   "cell_type": "code",
   "execution_count": 30,
   "id": "fe5b40cf-0570-4388-8d93-839a6dbd4180",
   "metadata": {},
   "outputs": [
    {
     "name": "stdout",
     "output_type": "stream",
     "text": [
      "[[ 1  2  3  4]\n",
      " [ 5  6  7  8]\n",
      " [ 9 10 11 12]]\n"
     ]
    }
   ],
   "source": [
    "arr = np.arange(1, 13)\n",
    "matrix= arr.reshape(3, 4)\n",
    "print(matrix)"
   ]
  },
  {
   "cell_type": "markdown",
   "id": "d46212e7-4fb8-4f6f-9bec-c7c54a8bbc35",
   "metadata": {},
   "source": [
    "Create a 3x3 matrix of ones. Add a 1D array [1, 2, 3] to each row."
   ]
  },
  {
   "cell_type": "code",
   "execution_count": 34,
   "id": "a2a9c68e-f865-44c4-b3cf-1175215a1bc9",
   "metadata": {},
   "outputs": [
    {
     "name": "stdout",
     "output_type": "stream",
     "text": [
      "[[1. 1. 1.]\n",
      " [1. 1. 1.]\n",
      " [1. 1. 1.]]\n",
      "[[2. 3. 4.]\n",
      " [2. 3. 4.]\n",
      " [2. 3. 4.]]\n"
     ]
    }
   ],
   "source": [
    "arr=np.ones([3,3])\n",
    "a=np.array([1,2,3])\n",
    "print(arr)\n",
    "print(arr+a)"
   ]
  },
  {
   "cell_type": "markdown",
   "id": "d634dc3b-8fe5-4d4d-bdc1-d56df9aa1ff1",
   "metadata": {},
   "source": [
    "Create a 1D array of random integers between 1 and 50. Extract all elements that are divisible by 5."
   ]
  },
  {
   "cell_type": "code",
   "execution_count": 37,
   "id": "ecbe2b1f-5c2a-424a-8390-6d8ba0eef364",
   "metadata": {},
   "outputs": [
    {
     "name": "stdout",
     "output_type": "stream",
     "text": [
      "[31 23  2 23 31 33 26 15 43  3]\n",
      "[15]\n"
     ]
    }
   ],
   "source": [
    "arr= np.random.randint(1, 51, 10)\n",
    "ele = arr[arr % 5 == 0]\n",
    "print(arr)\n",
    "print(ele)"
   ]
  },
  {
   "cell_type": "markdown",
   "id": "c6b1c51d-7f75-46c2-9204-83e750c09f40",
   "metadata": {},
   "source": [
    "Create two 2x2 matrices and perform matrix multiplication."
   ]
  },
  {
   "cell_type": "code",
   "execution_count": 38,
   "id": "1d371b4e-72e1-4472-8eb9-7da3dcc8af29",
   "metadata": {},
   "outputs": [
    {
     "name": "stdout",
     "output_type": "stream",
     "text": [
      "[[ 30  46]\n",
      " [ 62 102]]\n"
     ]
    }
   ],
   "source": [
    "mat1= np.array([[2,4], [6, 8]])\n",
    "mat2 = np.array([[1, 5], [7, 9]])\n",
    "print(np.dot(mat1, mat2))"
   ]
  },
  {
   "cell_type": "markdown",
   "id": "50600b6c-cb18-4c68-9ba1-e8b43479eb6e",
   "metadata": {},
   "source": [
    "Given a 4x4 array, use fancy indexing to extract the diagonal elements."
   ]
  },
  {
   "cell_type": "code",
   "execution_count": 39,
   "id": "299353af-ff17-4255-bf6d-571416e02b7b",
   "metadata": {},
   "outputs": [
    {
     "name": "stdout",
     "output_type": "stream",
     "text": [
      "[[ 1  2  3  4]\n",
      " [ 5  6  7  8]\n",
      " [ 9 10 11 12]\n",
      " [13 14 15 16]]\n",
      "[ 1  6 11 16]\n"
     ]
    }
   ],
   "source": [
    "arr= np.arange(1, 17).reshape(4, 4)\n",
    "dia = arr[np.diag_indices(4)]\n",
    "print(arr)\n",
    "print(dia)"
   ]
  },
  {
   "cell_type": "code",
   "execution_count": null,
   "id": "66557138-7043-426c-be90-1e3e3ee80699",
   "metadata": {},
   "outputs": [],
   "source": []
  }
 ],
 "metadata": {
  "kernelspec": {
   "display_name": "Python 3 (ipykernel)",
   "language": "python",
   "name": "python3"
  },
  "language_info": {
   "codemirror_mode": {
    "name": "ipython",
    "version": 3
   },
   "file_extension": ".py",
   "mimetype": "text/x-python",
   "name": "python",
   "nbconvert_exporter": "python",
   "pygments_lexer": "ipython3",
   "version": "3.13.1"
  }
 },
 "nbformat": 4,
 "nbformat_minor": 5
}
